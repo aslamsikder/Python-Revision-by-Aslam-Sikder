{
 "cells": [
  {
   "cell_type": "code",
   "execution_count": 2,
   "id": "0b0ea823-d847-4085-a00a-13f45197b10c",
   "metadata": {},
   "outputs": [],
   "source": [
    "#simple LIst\n",
    "myList = [1, 3, 6, 12, 8, 10, 'HI', 'Aslam Sir', 95, 25]"
   ]
  },
  {
   "cell_type": "code",
   "execution_count": 10,
   "id": "0e6cbb5b-0ea7-4d45-a74b-6bf27158131c",
   "metadata": {},
   "outputs": [
    {
     "data": {
      "text/plain": [
       "[3, 6]"
      ]
     },
     "execution_count": 10,
     "metadata": {},
     "output_type": "execute_result"
    }
   ],
   "source": [
    "#List slicing List_name[starting_index : Ending_index]\n",
    "myList[1:3]"
   ]
  },
  {
   "cell_type": "code",
   "execution_count": 11,
   "id": "8dae926b-74dc-45bc-bbba-2bdd8a9ee467",
   "metadata": {},
   "outputs": [
    {
     "data": {
      "text/plain": [
       "[1, 3, 6, 12, 8, 10]"
      ]
     },
     "execution_count": 11,
     "metadata": {},
     "output_type": "execute_result"
    }
   ],
   "source": [
    "myList[:6]"
   ]
  },
  {
   "cell_type": "code",
   "execution_count": 12,
   "id": "ab213ba8-647f-4cf3-9291-66986067deea",
   "metadata": {},
   "outputs": [
    {
     "data": {
      "text/plain": [
       "[10, 'HI', 'Aslam Sir', 95, 25]"
      ]
     },
     "execution_count": 12,
     "metadata": {},
     "output_type": "execute_result"
    }
   ],
   "source": [
    "myList[5:]"
   ]
  },
  {
   "cell_type": "code",
   "execution_count": 7,
   "id": "251c30f3-a5c4-48a5-a231-7fad092ac4d0",
   "metadata": {},
   "outputs": [
    {
     "data": {
      "text/plain": [
       "[3, 6]"
      ]
     },
     "execution_count": 7,
     "metadata": {},
     "output_type": "execute_result"
    }
   ],
   "source": [
    "myList[-9:-7]"
   ]
  },
  {
   "cell_type": "code",
   "execution_count": 8,
   "id": "b42125b4-944a-497c-b14f-f36466324a54",
   "metadata": {},
   "outputs": [
    {
     "data": {
      "text/plain": [
       "[3, 12, 10, 'Aslam Sir']"
      ]
     },
     "execution_count": 8,
     "metadata": {},
     "output_type": "execute_result"
    }
   ],
   "source": [
    "#List slicing List_name[starting_index : Ending_index : how many step will skip]\n",
    "myList[1:8:2]"
   ]
  },
  {
   "cell_type": "code",
   "execution_count": 9,
   "id": "b6bb82cd-baed-493a-a92a-66d216a56478",
   "metadata": {},
   "outputs": [
    {
     "data": {
      "text/plain": [
       "[6, 8, 'HI']"
      ]
     },
     "execution_count": 9,
     "metadata": {},
     "output_type": "execute_result"
    }
   ],
   "source": [
    "#List slicing List_name[starting_index : Ending_index : how many step will skip]\n",
    "myList[-8:-3:2]"
   ]
  },
  {
   "cell_type": "code",
   "execution_count": null,
   "id": "9c3675e0-3c89-4ea8-8c99-db82262876c0",
   "metadata": {},
   "outputs": [],
   "source": []
  },
  {
   "cell_type": "code",
   "execution_count": null,
   "id": "c5425a24-c8fb-42a8-99d4-d119efe08fed",
   "metadata": {},
   "outputs": [],
   "source": []
  },
  {
   "cell_type": "code",
   "execution_count": null,
   "id": "896d2eb9-88a4-4c07-a12f-4b137dca4ffa",
   "metadata": {},
   "outputs": [],
   "source": []
  }
 ],
 "metadata": {
  "kernelspec": {
   "display_name": "Python 3 (ipykernel)",
   "language": "python",
   "name": "python3"
  },
  "language_info": {
   "codemirror_mode": {
    "name": "ipython",
    "version": 3
   },
   "file_extension": ".py",
   "mimetype": "text/x-python",
   "name": "python",
   "nbconvert_exporter": "python",
   "pygments_lexer": "ipython3",
   "version": "3.12.6"
  }
 },
 "nbformat": 4,
 "nbformat_minor": 5
}
