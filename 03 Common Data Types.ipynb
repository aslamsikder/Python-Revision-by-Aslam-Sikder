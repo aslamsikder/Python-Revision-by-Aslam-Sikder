{
 "cells": [
  {
   "cell_type": "code",
   "execution_count": null,
   "id": "7cae250e-bfa1-4efe-9234-c0fb8df6d17e",
   "metadata": {},
   "outputs": [],
   "source": [
    "numbers\n",
    "strings (text)\n",
    "lists (javascript - array)\n",
    "dictionaries\n",
    "tuples\n",
    "sets"
   ]
  },
  {
   "cell_type": "code",
   "execution_count": 1,
   "id": "e93d22af-0002-4847-bd20-f7f4a2b9ef8c",
   "metadata": {},
   "outputs": [],
   "source": [
    "#numbers (integers (means whole numbers - 908, float (means decimal point) - 1.4)\n",
    "number_one = 908\n",
    "float_one = 9.8"
   ]
  },
  {
   "cell_type": "code",
   "execution_count": 2,
   "id": "e8642010-3ed4-4054-b1b0-ac2171f5a4c6",
   "metadata": {},
   "outputs": [
    {
     "data": {
      "text/plain": [
       "int"
      ]
     },
     "execution_count": 2,
     "metadata": {},
     "output_type": "execute_result"
    }
   ],
   "source": [
    "type(number_one)"
   ]
  },
  {
   "cell_type": "code",
   "execution_count": 3,
   "id": "30862e46-8c86-4c06-96cc-fa76f650898c",
   "metadata": {},
   "outputs": [
    {
     "data": {
      "text/plain": [
       "float"
      ]
     },
     "execution_count": 3,
     "metadata": {},
     "output_type": "execute_result"
    }
   ],
   "source": [
    "type(float_one)"
   ]
  },
  {
   "cell_type": "code",
   "execution_count": 4,
   "id": "c0e9ba5a-dae6-4984-a043-80a9b1ebcb2b",
   "metadata": {},
   "outputs": [],
   "source": [
    "#We can start a string using single quotation ' ' or double quotation \" \"\n",
    "my_text = 'Hi, my name is Aslam Sikder'"
   ]
  },
  {
   "cell_type": "code",
   "execution_count": 5,
   "id": "7a2fc1c4-fc2b-44e1-9bcf-fda3d99b647b",
   "metadata": {},
   "outputs": [
    {
     "data": {
      "text/plain": [
       "str"
      ]
     },
     "execution_count": 5,
     "metadata": {},
     "output_type": "execute_result"
    }
   ],
   "source": [
    "type(my_text)"
   ]
  },
  {
   "cell_type": "code",
   "execution_count": 7,
   "id": "c1780834-2f45-44be-92c9-c50c7df44494",
   "metadata": {},
   "outputs": [],
   "source": [
    "my_list = [3, 4, 'Hi', 3.4, [1,[2,3,4],5]]"
   ]
  },
  {
   "cell_type": "code",
   "execution_count": 8,
   "id": "7d7d1a93-faaf-4739-848d-107c6d8b1cbd",
   "metadata": {},
   "outputs": [
    {
     "data": {
      "text/plain": [
       "list"
      ]
     },
     "execution_count": 8,
     "metadata": {},
     "output_type": "execute_result"
    }
   ],
   "source": [
    "type(my_list)"
   ]
  },
  {
   "cell_type": "code",
   "execution_count": 9,
   "id": "8f875193-abf9-4b81-8f5d-6916af3c0c3e",
   "metadata": {},
   "outputs": [
    {
     "name": "stdout",
     "output_type": "stream",
     "text": [
      "[3, 4, 'Hi', 3.4, [1, [2, 3, 4], 5]]\n"
     ]
    }
   ],
   "source": [
    "print(my_list)"
   ]
  },
  {
   "cell_type": "code",
   "execution_count": 10,
   "id": "90700bef-b06a-4685-8f77-511a49c71e48",
   "metadata": {},
   "outputs": [],
   "source": [
    "my_dict = {'Aslam':1001, 'Ashfika':1002, 'Musfica':1003}"
   ]
  },
  {
   "cell_type": "code",
   "execution_count": 11,
   "id": "c337725e-b86b-4af2-8a52-744b965c2a49",
   "metadata": {},
   "outputs": [
    {
     "data": {
      "text/plain": [
       "dict"
      ]
     },
     "execution_count": 11,
     "metadata": {},
     "output_type": "execute_result"
    }
   ],
   "source": [
    "type(my_dict)"
   ]
  },
  {
   "cell_type": "code",
   "execution_count": 12,
   "id": "ebfca840-27e1-494e-bd7a-99fd959f4ae3",
   "metadata": {},
   "outputs": [
    {
     "name": "stdout",
     "output_type": "stream",
     "text": [
      "{'Aslam': 1001, 'Ashfika': 1002, 'Musfica': 1003}\n"
     ]
    }
   ],
   "source": [
    "print(my_dict)"
   ]
  },
  {
   "cell_type": "code",
   "execution_count": 13,
   "id": "3b8c2ddf-6238-4f82-8cc6-9af2bb314cc1",
   "metadata": {},
   "outputs": [
    {
     "data": {
      "text/plain": [
       "355.55"
      ]
     },
     "execution_count": 13,
     "metadata": {},
     "output_type": "execute_result"
    }
   ],
   "source": [
    "320+35.55"
   ]
  },
  {
   "cell_type": "code",
   "execution_count": 14,
   "id": "a6fe5b0f-e487-46d9-9bdc-b3cba9a5f7cb",
   "metadata": {},
   "outputs": [],
   "source": [
    "a = 'Hi'\n",
    "b = ' Aslam'"
   ]
  },
  {
   "cell_type": "code",
   "execution_count": 15,
   "id": "82d12aa8-a947-4995-bb4a-398487e8a7db",
   "metadata": {},
   "outputs": [
    {
     "data": {
      "text/plain": [
       "'Hi Aslam'"
      ]
     },
     "execution_count": 15,
     "metadata": {},
     "output_type": "execute_result"
    }
   ],
   "source": [
    "a+b"
   ]
  },
  {
   "cell_type": "code",
   "execution_count": 16,
   "id": "48f64446-d502-4b3b-8b3e-353587a713e9",
   "metadata": {},
   "outputs": [
    {
     "ename": "TypeError",
     "evalue": "can only concatenate str (not \"int\") to str",
     "output_type": "error",
     "traceback": [
      "\u001b[1;31m---------------------------------------------------------------------------\u001b[0m",
      "\u001b[1;31mTypeError\u001b[0m                                 Traceback (most recent call last)",
      "Cell \u001b[1;32mIn[16], line 2\u001b[0m\n\u001b[0;32m      1\u001b[0m \u001b[38;5;66;03m#But it is not possible to add a number & a string\u001b[39;00m\n\u001b[1;32m----> 2\u001b[0m \u001b[38;5;28mprint\u001b[39m(\u001b[38;5;124;43m'\u001b[39;49m\u001b[38;5;124;43mhi\u001b[39;49m\u001b[38;5;124;43m'\u001b[39;49m\u001b[43m \u001b[49m\u001b[38;5;241;43m+\u001b[39;49m\u001b[43m \u001b[49m\u001b[38;5;241;43m7\u001b[39;49m)\n",
      "\u001b[1;31mTypeError\u001b[0m: can only concatenate str (not \"int\") to str"
     ]
    }
   ],
   "source": [
    "#But it is not possible to add a number & a string\n",
    "print('hi' + 7)"
   ]
  },
  {
   "cell_type": "code",
   "execution_count": 20,
   "id": "cf5e7096-cbd8-432e-9f59-9b9f432c3d84",
   "metadata": {},
   "outputs": [],
   "source": [
    "#So, we need type casting\n",
    "my_str = 'Hi '\n",
    "my_num = 7"
   ]
  },
  {
   "cell_type": "code",
   "execution_count": 21,
   "id": "1578ec40-4d2c-4179-8901-03cd61fb9301",
   "metadata": {},
   "outputs": [
    {
     "name": "stdout",
     "output_type": "stream",
     "text": [
      "Hi 7\n"
     ]
    }
   ],
   "source": [
    "print(my_str + str(my_num))"
   ]
  },
  {
   "cell_type": "code",
   "execution_count": null,
   "id": "00d7dc34-6e22-4dbd-a9b5-21d34c055cd3",
   "metadata": {},
   "outputs": [],
   "source": []
  }
 ],
 "metadata": {
  "kernelspec": {
   "display_name": "Python 3 (ipykernel)",
   "language": "python",
   "name": "python3"
  },
  "language_info": {
   "codemirror_mode": {
    "name": "ipython",
    "version": 3
   },
   "file_extension": ".py",
   "mimetype": "text/x-python",
   "name": "python",
   "nbconvert_exporter": "python",
   "pygments_lexer": "ipython3",
   "version": "3.12.6"
  }
 },
 "nbformat": 4,
 "nbformat_minor": 5
}
