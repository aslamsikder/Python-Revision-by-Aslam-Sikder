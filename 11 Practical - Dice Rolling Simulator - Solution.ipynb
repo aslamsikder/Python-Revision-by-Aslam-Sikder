{
 "cells": [
  {
   "cell_type": "code",
   "execution_count": 1,
   "id": "10993330-78e9-46eb-8ca1-bc66eec7badb",
   "metadata": {},
   "outputs": [
    {
     "data": {
      "text/plain": [
       "'\\n- Create a program that simulates two dice being rolled\\n- In the program give a message to the user saying what the two dice values are and their combined total\\n'"
      ]
     },
     "execution_count": 1,
     "metadata": {},
     "output_type": "execute_result"
    }
   ],
   "source": [
    "'''\n",
    "- Create a program that simulates two dice being rolled\n",
    "- In the program give a message to the user saying what the two dice values are and their combined total\n",
    "'''"
   ]
  },
  {
   "cell_type": "code",
   "execution_count": null,
   "id": "984462fa-4405-44ef-b91d-f5d0d1d6363e",
   "metadata": {},
   "outputs": [],
   "source": [
    "'''\n",
    "Step by step solution\n",
    "- import random module\n",
    "- Generate two numbers that are random and between 1-6\n",
    "- Print the two numbers and their sum\n",
    "'''"
   ]
  },
  {
   "cell_type": "code",
   "execution_count": 12,
   "id": "0e6d3b3f-fd11-44c1-a720-36a5326c74f4",
   "metadata": {},
   "outputs": [],
   "source": [
    "from random import randint\n",
    "num_one = randint(1,6)\n",
    "num_two = randint(1,6)\n",
    "\n",
    "dice_total = num_one + num_two"
   ]
  },
  {
   "cell_type": "code",
   "execution_count": 13,
   "id": "d72e6078-55a6-469a-a838-69f0bdb19d89",
   "metadata": {},
   "outputs": [
    {
     "name": "stdout",
     "output_type": "stream",
     "text": [
      "Dice simulation complete! \n",
      "Num one is: 3 and Num Two is: 4. \n",
      "Their total is 7\n"
     ]
    }
   ],
   "source": [
    "print(\"Dice simulation complete! \\nNum one is: {} and Num Two is: {}. \\nTheir total is {}\".format(num_one, num_two, dice_total))"
   ]
  },
  {
   "cell_type": "code",
   "execution_count": null,
   "id": "788e5525-c783-4900-8de5-3a23d1994c21",
   "metadata": {},
   "outputs": [],
   "source": []
  }
 ],
 "metadata": {
  "kernelspec": {
   "display_name": "Python 3 (ipykernel)",
   "language": "python",
   "name": "python3"
  },
  "language_info": {
   "codemirror_mode": {
    "name": "ipython",
    "version": 3
   },
   "file_extension": ".py",
   "mimetype": "text/x-python",
   "name": "python",
   "nbconvert_exporter": "python",
   "pygments_lexer": "ipython3",
   "version": "3.12.6"
  }
 },
 "nbformat": 4,
 "nbformat_minor": 5
}
