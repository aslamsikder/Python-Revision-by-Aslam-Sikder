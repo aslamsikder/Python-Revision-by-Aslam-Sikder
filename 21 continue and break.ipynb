{
 "cells": [
  {
   "cell_type": "code",
   "execution_count": 1,
   "id": "ddb34801-8c40-4968-8c08-8c71161bb2e3",
   "metadata": {},
   "outputs": [],
   "source": [
    "fruit_list = ['Apple', 'Pear', 'Banana', 'Moldy Banana', 'Kiwi']"
   ]
  },
  {
   "cell_type": "code",
   "execution_count": 2,
   "id": "65506bcc-f126-4c6d-8a64-43941caea2f2",
   "metadata": {},
   "outputs": [
    {
     "name": "stdout",
     "output_type": "stream",
     "text": [
      "Apple\n",
      "Pear\n",
      "Banana\n",
      "Moldy Banana\n",
      "Kiwi\n"
     ]
    }
   ],
   "source": [
    "for fruit in fruit_list:\n",
    "    print(fruit)"
   ]
  },
  {
   "cell_type": "code",
   "execution_count": 5,
   "id": "0837497c-e9a0-4201-85b7-0455791ba7c5",
   "metadata": {},
   "outputs": [
    {
     "name": "stdout",
     "output_type": "stream",
     "text": [
      "Apple\n",
      "Pear\n",
      "Banana\n",
      "Kiwi\n"
     ]
    }
   ],
   "source": [
    "#Use of continue \n",
    "for fruit in fruit_list:\n",
    "    if fruit == 'Moldy Banana':\n",
    "        continue\n",
    "    else:\n",
    "        print(fruit)"
   ]
  },
  {
   "cell_type": "code",
   "execution_count": 6,
   "id": "1646a027-ceae-44d9-b27b-9ee6296bed4a",
   "metadata": {},
   "outputs": [
    {
     "name": "stdout",
     "output_type": "stream",
     "text": [
      "Apple\n",
      "Pear\n",
      "Banana\n",
      "Production stopped. Moldy banana found!\n"
     ]
    }
   ],
   "source": [
    "#Use of break \n",
    "for fruit in fruit_list:\n",
    "    if fruit == 'Moldy Banana':\n",
    "        break\n",
    "    else:\n",
    "        print(fruit)\n",
    "print('Production stopped. Moldy banana found!')"
   ]
  },
  {
   "cell_type": "code",
   "execution_count": null,
   "id": "21bd08a5-f12f-4071-84ce-7fc82c6f9097",
   "metadata": {},
   "outputs": [],
   "source": []
  }
 ],
 "metadata": {
  "kernelspec": {
   "display_name": "Python 3 (ipykernel)",
   "language": "python",
   "name": "python3"
  },
  "language_info": {
   "codemirror_mode": {
    "name": "ipython",
    "version": 3
   },
   "file_extension": ".py",
   "mimetype": "text/x-python",
   "name": "python",
   "nbconvert_exporter": "python",
   "pygments_lexer": "ipython3",
   "version": "3.12.6"
  }
 },
 "nbformat": 4,
 "nbformat_minor": 5
}
