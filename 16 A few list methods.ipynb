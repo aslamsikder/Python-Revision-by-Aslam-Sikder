{
 "cells": [
  {
   "cell_type": "code",
   "execution_count": null,
   "id": "5af6cf56-e8c3-42b6-b8d1-bced5331ba8f",
   "metadata": {},
   "outputs": [],
   "source": [
    "'''\n",
    "List methods:\n",
    "- append\n",
    "- remove\n",
    "- pop\n",
    "- sort\n",
    "- reverse\n",
    "\n",
    "List functions:\n",
    "- len()\n",
    "- min()\n",
    "- max()\n",
    "'''"
   ]
  },
  {
   "cell_type": "code",
   "execution_count": 2,
   "id": "01dc6069-815d-46da-8a78-7a1d62289cf0",
   "metadata": {},
   "outputs": [],
   "source": [
    "myList = [1, 23, 12, 4, 15, 1252, 8, 2]\n",
    "myListLetters = ['a', 'd', 'z', 's', 'm']"
   ]
  },
  {
   "cell_type": "code",
   "execution_count": 4,
   "id": "2a03dbb1-779f-413d-a26c-9eed6519f8df",
   "metadata": {},
   "outputs": [
    {
     "name": "stdout",
     "output_type": "stream",
     "text": [
      "[1, 23, 12, 4, 15, 1252, 8, 2, 6, 6]\n"
     ]
    }
   ],
   "source": [
    "myList.append(6)\n",
    "print(myList)"
   ]
  },
  {
   "cell_type": "code",
   "execution_count": 5,
   "id": "4af0ea04-528f-4ec2-8239-d9412cf11f47",
   "metadata": {},
   "outputs": [
    {
     "name": "stdout",
     "output_type": "stream",
     "text": [
      "[1, 23, 12, 4, 15, 1252, 8, 2, 6]\n"
     ]
    }
   ],
   "source": [
    "myList.pop()\n",
    "print(myList)"
   ]
  },
  {
   "cell_type": "code",
   "execution_count": 6,
   "id": "3d9020e7-2b0c-4572-8219-de56e59e5c57",
   "metadata": {},
   "outputs": [
    {
     "name": "stdout",
     "output_type": "stream",
     "text": [
      "[1, 23, 12, 4, 15, 8, 2, 6]\n"
     ]
    }
   ],
   "source": [
    "myList.remove(1252)\n",
    "print(myList)"
   ]
  },
  {
   "cell_type": "code",
   "execution_count": 7,
   "id": "e7277fde-4d09-4cd4-817e-d9ef4ff9db5c",
   "metadata": {},
   "outputs": [
    {
     "name": "stdout",
     "output_type": "stream",
     "text": [
      "[1, 2, 4, 6, 8, 12, 15, 23]\n"
     ]
    }
   ],
   "source": [
    "myList.sort()\n",
    "print(myList)"
   ]
  },
  {
   "cell_type": "code",
   "execution_count": 10,
   "id": "8abbd1e2-315a-4d0b-9902-72d3eb4c821d",
   "metadata": {},
   "outputs": [
    {
     "name": "stdout",
     "output_type": "stream",
     "text": [
      "[23, 15, 12, 8, 6, 4, 2, 1]\n"
     ]
    }
   ],
   "source": [
    "myList.reverse()\n",
    "print(myList)"
   ]
  },
  {
   "cell_type": "code",
   "execution_count": 11,
   "id": "f69a1005-550a-41d8-b982-be8de7c24767",
   "metadata": {},
   "outputs": [
    {
     "name": "stdout",
     "output_type": "stream",
     "text": [
      "['a', 'd', 'm', 's', 'z']\n"
     ]
    }
   ],
   "source": [
    "myListLetters.sort()\n",
    "print(myListLetters)"
   ]
  },
  {
   "cell_type": "code",
   "execution_count": 12,
   "id": "8177bba6-f33a-48ac-bc3a-fea1da7db545",
   "metadata": {},
   "outputs": [
    {
     "name": "stdout",
     "output_type": "stream",
     "text": [
      "['z', 's', 'm', 'd', 'a']\n"
     ]
    }
   ],
   "source": [
    "myListLetters.reverse()\n",
    "print(myListLetters)"
   ]
  },
  {
   "cell_type": "code",
   "execution_count": 13,
   "id": "b1efe267-7598-4c98-84b4-257c0eee250f",
   "metadata": {},
   "outputs": [
    {
     "data": {
      "text/plain": [
       "8"
      ]
     },
     "execution_count": 13,
     "metadata": {},
     "output_type": "execute_result"
    }
   ],
   "source": [
    "#List Functions\n",
    "len(myList)"
   ]
  },
  {
   "cell_type": "code",
   "execution_count": 14,
   "id": "945af281-8c7f-421a-ade1-98eade0bcf17",
   "metadata": {},
   "outputs": [
    {
     "data": {
      "text/plain": [
       "5"
      ]
     },
     "execution_count": 14,
     "metadata": {},
     "output_type": "execute_result"
    }
   ],
   "source": [
    "len(myListLetters)"
   ]
  },
  {
   "cell_type": "code",
   "execution_count": 15,
   "id": "fe782970-f690-4558-8d3e-fafef73edcfc",
   "metadata": {},
   "outputs": [
    {
     "data": {
      "text/plain": [
       "1"
      ]
     },
     "execution_count": 15,
     "metadata": {},
     "output_type": "execute_result"
    }
   ],
   "source": [
    "min(myList)"
   ]
  },
  {
   "cell_type": "code",
   "execution_count": 16,
   "id": "d32b3f05-1763-4bb1-a78e-eecc1a4384c1",
   "metadata": {},
   "outputs": [
    {
     "data": {
      "text/plain": [
       "23"
      ]
     },
     "execution_count": 16,
     "metadata": {},
     "output_type": "execute_result"
    }
   ],
   "source": [
    "max(myList)"
   ]
  },
  {
   "cell_type": "code",
   "execution_count": 17,
   "id": "4d7f92e4-6455-483a-aca5-268aa6f85a87",
   "metadata": {},
   "outputs": [
    {
     "data": {
      "text/plain": [
       "'a'"
      ]
     },
     "execution_count": 17,
     "metadata": {},
     "output_type": "execute_result"
    }
   ],
   "source": [
    "min(myListLetters)\n"
   ]
  },
  {
   "cell_type": "code",
   "execution_count": 18,
   "id": "13f53033-6212-40da-8711-72d4c12ff3f7",
   "metadata": {},
   "outputs": [
    {
     "data": {
      "text/plain": [
       "'z'"
      ]
     },
     "execution_count": 18,
     "metadata": {},
     "output_type": "execute_result"
    }
   ],
   "source": [
    "max(myListLetters)"
   ]
  },
  {
   "cell_type": "code",
   "execution_count": null,
   "id": "17a5e9a3-a6b3-4fec-8483-1984dabdfe93",
   "metadata": {},
   "outputs": [],
   "source": []
  }
 ],
 "metadata": {
  "kernelspec": {
   "display_name": "Python 3 (ipykernel)",
   "language": "python",
   "name": "python3"
  },
  "language_info": {
   "codemirror_mode": {
    "name": "ipython",
    "version": 3
   },
   "file_extension": ".py",
   "mimetype": "text/x-python",
   "name": "python",
   "nbconvert_exporter": "python",
   "pygments_lexer": "ipython3",
   "version": "3.12.6"
  }
 },
 "nbformat": 4,
 "nbformat_minor": 5
}
