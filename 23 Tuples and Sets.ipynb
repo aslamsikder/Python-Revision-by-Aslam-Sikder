{
 "cells": [
  {
   "cell_type": "code",
   "execution_count": null,
   "id": "d696ee1f-b62a-4ec6-b795-a098c83b3fa6",
   "metadata": {},
   "outputs": [],
   "source": [
    "'''\n",
    "- Tuples () - we can not assign value to the existing index\n",
    "- Set {} -  we use for unique valus\n",
    "'''"
   ]
  },
  {
   "cell_type": "code",
   "execution_count": 2,
   "id": "23c18216-a560-4842-b71a-c0c98cd26447",
   "metadata": {},
   "outputs": [],
   "source": [
    "my_list = [1, 2, 3, 4, 5, 6]"
   ]
  },
  {
   "cell_type": "code",
   "execution_count": 3,
   "id": "53f204e4-ebef-453b-8c9e-fcd7b1457be4",
   "metadata": {},
   "outputs": [],
   "source": [
    "my_list[2] = 25"
   ]
  },
  {
   "cell_type": "code",
   "execution_count": 4,
   "id": "53b07ae0-77a1-41d6-b1a7-59973019e4bb",
   "metadata": {},
   "outputs": [
    {
     "name": "stdout",
     "output_type": "stream",
     "text": [
      "[1, 2, 25, 4, 5, 6]\n"
     ]
    }
   ],
   "source": [
    "print(my_list)"
   ]
  },
  {
   "cell_type": "code",
   "execution_count": 1,
   "id": "491b8375-21a8-4dc5-bed6-1986da24351c",
   "metadata": {},
   "outputs": [
    {
     "name": "stdout",
     "output_type": "stream",
     "text": [
      "(1, 2, 3, 4, 5, 6)\n"
     ]
    }
   ],
   "source": [
    "my_tuples = (1, 2, 3, 4, 5, 6)\n",
    "print(my_tuples)"
   ]
  },
  {
   "cell_type": "code",
   "execution_count": 5,
   "id": "abfc7260-c318-4258-9feb-0a7cb53073d5",
   "metadata": {},
   "outputs": [
    {
     "ename": "TypeError",
     "evalue": "'tuple' object does not support item assignment",
     "output_type": "error",
     "traceback": [
      "\u001b[1;31m---------------------------------------------------------------------------\u001b[0m",
      "\u001b[1;31mTypeError\u001b[0m                                 Traceback (most recent call last)",
      "Cell \u001b[1;32mIn[5], line 1\u001b[0m\n\u001b[1;32m----> 1\u001b[0m \u001b[43mmy_tuples\u001b[49m\u001b[43m[\u001b[49m\u001b[38;5;241;43m2\u001b[39;49m\u001b[43m]\u001b[49m \u001b[38;5;241m=\u001b[39m \u001b[38;5;241m35\u001b[39m\n",
      "\u001b[1;31mTypeError\u001b[0m: 'tuple' object does not support item assignment"
     ]
    }
   ],
   "source": [
    "#Not possible to assign value\n",
    "my_tuples[2] = 35"
   ]
  },
  {
   "cell_type": "code",
   "execution_count": 8,
   "id": "04a85316-b0ef-4ca1-97b0-88a73224bb8a",
   "metadata": {},
   "outputs": [],
   "source": [
    "my_set = {1, 1, 9, 9, 9, 2, 3, 4, 5, 'Aslam Sir', 'Aslam Sir', 300, 300, 300, 100, 100, 252, 264, 264}"
   ]
  },
  {
   "cell_type": "code",
   "execution_count": 9,
   "id": "5a7a0cf9-8896-4de9-b20d-3bf23dd03f95",
   "metadata": {},
   "outputs": [
    {
     "name": "stdout",
     "output_type": "stream",
     "text": [
      "{1, 2, 3, 4, 5, 100, 'Aslam Sir', 264, 9, 300, 252}\n"
     ]
    }
   ],
   "source": [
    "print(my_set)"
   ]
  },
  {
   "cell_type": "code",
   "execution_count": null,
   "id": "340d1096-d924-4b04-8a62-afdc0114e7d9",
   "metadata": {},
   "outputs": [],
   "source": []
  },
  {
   "cell_type": "code",
   "execution_count": null,
   "id": "102d03be-f8a1-4df9-a4e4-15fc13105617",
   "metadata": {},
   "outputs": [],
   "source": []
  }
 ],
 "metadata": {
  "kernelspec": {
   "display_name": "Python 3 (ipykernel)",
   "language": "python",
   "name": "python3"
  },
  "language_info": {
   "codemirror_mode": {
    "name": "ipython",
    "version": 3
   },
   "file_extension": ".py",
   "mimetype": "text/x-python",
   "name": "python",
   "nbconvert_exporter": "python",
   "pygments_lexer": "ipython3",
   "version": "3.12.6"
  }
 },
 "nbformat": 4,
 "nbformat_minor": 5
}
