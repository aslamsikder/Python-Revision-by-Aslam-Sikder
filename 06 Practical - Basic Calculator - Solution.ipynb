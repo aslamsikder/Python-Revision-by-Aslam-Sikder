{
 "cells": [
  {
   "cell_type": "code",
   "execution_count": null,
   "id": "631d1189-899d-4380-9cdf-b4918f832c1e",
   "metadata": {},
   "outputs": [],
   "source": [
    "'''\n",
    "- Ask the user their name TICK\n",
    "- Have the user provide three numbers TICK\n",
    "- Add the first two numbers together, then multiply the result with the third number TICK\n",
    "- output the result in a long sentence that includes the user's name, the numbers they choose, and the following result TICK\n",
    "'''"
   ]
  },
  {
   "cell_type": "code",
   "execution_count": 3,
   "id": "4583388e-9443-4422-b86f-8cf2cbe8ca6f",
   "metadata": {},
   "outputs": [
    {
     "name": "stdin",
     "output_type": "stream",
     "text": [
      "Hi, what's your name?  Aslam Sikder\n"
     ]
    },
    {
     "name": "stdout",
     "output_type": "stream",
     "text": [
      "Please enter three numbers\n"
     ]
    },
    {
     "name": "stdin",
     "output_type": "stream",
     "text": [
      "Please enter your first number:  12\n",
      "Please enter your second number:  13\n",
      "Please enter your third number:  14\n"
     ]
    }
   ],
   "source": [
    "user_name = input(\"Hi, what's your name? \")\n",
    "print('Please enter three numbers')\n",
    "\n",
    "# We must have to convert the input numbers into integer using type casting. Because, input() function take input as string always.\n",
    "num_one = int(input('Please enter your first number: '))\n",
    "num_second = int(input('Please enter your second number: '))\n",
    "num_third = int(input('Please enter your third number: '))"
   ]
  },
  {
   "cell_type": "code",
   "execution_count": 7,
   "id": "b6695450-aad5-4237-8a88-ea3b08879d0a",
   "metadata": {},
   "outputs": [
    {
     "name": "stdout",
     "output_type": "stream",
     "text": [
      "Hi Aslam Sikder. You have chosen 12, 13 and 14 as your numbers. 350 is your result\n"
     ]
    }
   ],
   "source": [
    "result = (num_one + num_second) * num_third\n",
    "print('Hi {}. You have chosen {}, {} and {} as your numbers. {} is your result'.format(user_name, num_one, num_second, num_third, result))"
   ]
  },
  {
   "cell_type": "code",
   "execution_count": null,
   "id": "f0fb0688-b12c-4faa-bfef-fdfdf4693016",
   "metadata": {},
   "outputs": [],
   "source": []
  }
 ],
 "metadata": {
  "kernelspec": {
   "display_name": "Python 3 (ipykernel)",
   "language": "python",
   "name": "python3"
  },
  "language_info": {
   "codemirror_mode": {
    "name": "ipython",
    "version": 3
   },
   "file_extension": ".py",
   "mimetype": "text/x-python",
   "name": "python",
   "nbconvert_exporter": "python",
   "pygments_lexer": "ipython3",
   "version": "3.12.6"
  }
 },
 "nbformat": 4,
 "nbformat_minor": 5
}
