{
 "cells": [
  {
   "cell_type": "code",
   "execution_count": null,
   "id": "9ee02caf-b950-48d3-89c0-8261a93b05cb",
   "metadata": {},
   "outputs": [],
   "source": [
    "'''\n",
    "- Quick way to create new lists\n",
    "- Quick way to create new lists with condition (if x%2 == 0)\n",
    "- Means to filter through a list with new condition\n",
    "'''"
   ]
  },
  {
   "cell_type": "code",
   "execution_count": 1,
   "id": "48a28ce2-f1b5-4566-9976-d671d91027e6",
   "metadata": {},
   "outputs": [
    {
     "name": "stdout",
     "output_type": "stream",
     "text": [
      "0\n",
      "1\n",
      "2\n",
      "3\n",
      "4\n",
      "5\n",
      "6\n",
      "7\n",
      "8\n",
      "9\n"
     ]
    }
   ],
   "source": [
    "for i in range(10):\n",
    "    print(i)"
   ]
  },
  {
   "cell_type": "code",
   "execution_count": 2,
   "id": "dcbbd9c4-af8f-4f4a-bcb1-5f7f4cdc2372",
   "metadata": {},
   "outputs": [
    {
     "name": "stdout",
     "output_type": "stream",
     "text": [
      "[0, 1, 2, 3, 4, 5, 6, 7, 8, 9, 10, 11, 12, 13, 14, 15, 16, 17, 18, 19, 20, 21, 22, 23, 24, 25, 26, 27, 28, 29, 30, 31, 32, 33, 34, 35, 36, 37, 38, 39, 40, 41, 42, 43, 44, 45, 46, 47, 48, 49]\n"
     ]
    }
   ],
   "source": [
    "my_list = [i for i in range(50)]\n",
    "print(my_list)"
   ]
  },
  {
   "cell_type": "code",
   "execution_count": 3,
   "id": "f20f73a8-0d9f-49e8-9bf3-257839e9ec47",
   "metadata": {},
   "outputs": [
    {
     "name": "stdout",
     "output_type": "stream",
     "text": [
      "[1, 3, 5, 7, 9, 11, 13, 15, 17, 19]\n"
     ]
    }
   ],
   "source": [
    "my_odd_list = [number for number in range(20) if number%2!=0]\n",
    "print(my_odd_list)"
   ]
  },
  {
   "cell_type": "code",
   "execution_count": 4,
   "id": "f06cb44f-1b35-47af-9806-305234f452e1",
   "metadata": {},
   "outputs": [
    {
     "name": "stdout",
     "output_type": "stream",
     "text": [
      "[0, 2, 4, 6, 8, 10, 12, 14, 16, 18]\n"
     ]
    }
   ],
   "source": [
    "my_even_list = [num for num in range(20) if num%2==0]\n",
    "print(my_even_list)"
   ]
  },
  {
   "cell_type": "code",
   "execution_count": 7,
   "id": "2cf59828-e60f-41f7-ac8e-70a8b890e0a6",
   "metadata": {},
   "outputs": [],
   "source": [
    "fruit_list = ['Apple', 'Pear', 'Banana', 'Moldy Banana', 'Kiwi']"
   ]
  },
  {
   "cell_type": "code",
   "execution_count": 9,
   "id": "09025436-bbfa-43a5-b226-d057e378c8ed",
   "metadata": {},
   "outputs": [
    {
     "name": "stdout",
     "output_type": "stream",
     "text": [
      "['Apple', 'Pear', 'Banana', 'Kiwi']\n"
     ]
    }
   ],
   "source": [
    "fresh_fruit_list = [fruit for fruit in fruit_list if fruit != \"Moldy Banana\"]\n",
    "print(fresh_fruit_list)"
   ]
  },
  {
   "cell_type": "code",
   "execution_count": null,
   "id": "9d15f2d2-5f05-4ac2-9ee0-416c796095b2",
   "metadata": {},
   "outputs": [],
   "source": []
  }
 ],
 "metadata": {
  "kernelspec": {
   "display_name": "Python 3 (ipykernel)",
   "language": "python",
   "name": "python3"
  },
  "language_info": {
   "codemirror_mode": {
    "name": "ipython",
    "version": 3
   },
   "file_extension": ".py",
   "mimetype": "text/x-python",
   "name": "python",
   "nbconvert_exporter": "python",
   "pygments_lexer": "ipython3",
   "version": "3.12.6"
  }
 },
 "nbformat": 4,
 "nbformat_minor": 5
}
