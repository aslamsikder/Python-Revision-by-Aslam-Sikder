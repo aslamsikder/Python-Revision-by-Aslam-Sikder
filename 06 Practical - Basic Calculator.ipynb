{
 "cells": [
  {
   "cell_type": "code",
   "execution_count": null,
   "id": "8829a69b-372b-4710-9605-62f8264615c3",
   "metadata": {},
   "outputs": [],
   "source": [
    "'''\n",
    "- Ask the user their name\n",
    "- Have the user provide three numbers\n",
    "- Add the first two numbers together, then multiply the result with the third number\n",
    "- output the result in a long sentence that includes the user's name, the numbers they choose, and the following result\n",
    "'''"
   ]
  }
 ],
 "metadata": {
  "kernelspec": {
   "display_name": "Python 3 (ipykernel)",
   "language": "python",
   "name": "python3"
  },
  "language_info": {
   "codemirror_mode": {
    "name": "ipython",
    "version": 3
   },
   "file_extension": ".py",
   "mimetype": "text/x-python",
   "name": "python",
   "nbconvert_exporter": "python",
   "pygments_lexer": "ipython3",
   "version": "3.12.6"
  }
 },
 "nbformat": 4,
 "nbformat_minor": 5
}
