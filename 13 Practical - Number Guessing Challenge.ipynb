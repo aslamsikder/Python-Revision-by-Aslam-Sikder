{
 "cells": [
  {
   "cell_type": "code",
   "execution_count": null,
   "id": "40cc05ef-c386-42de-9bc1-5f20120a1783",
   "metadata": {},
   "outputs": [],
   "source": [
    "'''\n",
    "Create a program that:\n",
    "- Chooses a number between 1-100\n",
    "- Takes a user guess and tells them if they are correct or not.\n",
    "- Bonus: Tells the user if their guess was lower or higher than the computer's number\n",
    "'''"
   ]
  },
  {
   "cell_type": "code",
   "execution_count": null,
   "id": "5cae2231-b129-4f0a-b320-9b71459437ad",
   "metadata": {},
   "outputs": [],
   "source": []
  }
 ],
 "metadata": {
  "kernelspec": {
   "display_name": "Python 3 (ipykernel)",
   "language": "python",
   "name": "python3"
  },
  "language_info": {
   "codemirror_mode": {
    "name": "ipython",
    "version": 3
   },
   "file_extension": ".py",
   "mimetype": "text/x-python",
   "name": "python",
   "nbconvert_exporter": "python",
   "pygments_lexer": "ipython3",
   "version": "3.12.6"
  }
 },
 "nbformat": 4,
 "nbformat_minor": 5
}
