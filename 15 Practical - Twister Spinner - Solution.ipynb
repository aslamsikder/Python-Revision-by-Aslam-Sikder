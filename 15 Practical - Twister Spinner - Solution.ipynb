{
 "cells": [
  {
   "cell_type": "code",
   "execution_count": 2,
   "id": "d92a3842-174f-422a-a2be-60d9b31d4905",
   "metadata": {},
   "outputs": [
    {
     "data": {
      "text/plain": [
       "'\\nCreate a twister spinner that emulates a twister spinner\\nEach time the program is run it outputs one of ech of the following (at random):\\n- one color (red, green, blue, yellow)\\n- left hand of right hand, left foot or right foot\\n'"
      ]
     },
     "execution_count": 2,
     "metadata": {},
     "output_type": "execute_result"
    }
   ],
   "source": [
    "'''\n",
    "Create a twister spinner that emulates a twister spinner\n",
    "Each time the program is run it outputs one of ech of the following (at random):\n",
    "- one color (red, green, blue, yellow)\n",
    "- left hand of right hand, left foot or right foot\n",
    "'''"
   ]
  },
  {
   "cell_type": "code",
   "execution_count": null,
   "id": "a37c6f90-c453-48ad-9225-47b766055b14",
   "metadata": {},
   "outputs": [],
   "source": [
    "'''\n",
    "- Somehow output choices from a list of color (Need to research random from a list)\n",
    "- Do the same for body parts\n",
    "- Output the result\n",
    "'''"
   ]
  },
  {
   "cell_type": "code",
   "execution_count": 8,
   "id": "972509a4-5ea1-4438-b3e8-95521cdb3303",
   "metadata": {},
   "outputs": [
    {
     "name": "stdout",
     "output_type": "stream",
     "text": [
      "Twister Spinner says: Right Hand, red\n"
     ]
    }
   ],
   "source": [
    "import random\n",
    "\n",
    "colors = ['red', 'green', 'blue', 'yellow']\n",
    "body_parts = ['Left Hand', 'Right Hand', 'Left foot', 'Right foot']\n",
    "\n",
    "color_choice = random.choice(colors)\n",
    "body_choice = random.choice(body_parts)\n",
    "\n",
    "print('Twister Spinner says: {}, {}'.format(body_choice, color_choice))"
   ]
  },
  {
   "cell_type": "code",
   "execution_count": null,
   "id": "843932a9-3304-4eb0-ba55-fd471c433b86",
   "metadata": {},
   "outputs": [],
   "source": []
  }
 ],
 "metadata": {
  "kernelspec": {
   "display_name": "Python 3 (ipykernel)",
   "language": "python",
   "name": "python3"
  },
  "language_info": {
   "codemirror_mode": {
    "name": "ipython",
    "version": 3
   },
   "file_extension": ".py",
   "mimetype": "text/x-python",
   "name": "python",
   "nbconvert_exporter": "python",
   "pygments_lexer": "ipython3",
   "version": "3.12.6"
  }
 },
 "nbformat": 4,
 "nbformat_minor": 5
}
