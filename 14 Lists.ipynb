{
 "cells": [
  {
   "cell_type": "code",
   "execution_count": 2,
   "id": "90bfa6cd-8d3d-4669-b8e8-d349333bd4bf",
   "metadata": {},
   "outputs": [],
   "source": [
    "my_list = [4, 5.9, 'Hi there', [1,2,3,[4,5,6]]]"
   ]
  },
  {
   "cell_type": "code",
   "execution_count": null,
   "id": "31cf27cd-3fb0-4fe7-8344-6533907eb49b",
   "metadata": {},
   "outputs": [],
   "source": []
  },
  {
   "cell_type": "code",
   "execution_count": null,
   "id": "dece63a6-b0c9-499b-8f3e-68911aaa2b6c",
   "metadata": {},
   "outputs": [],
   "source": []
  }
 ],
 "metadata": {
  "kernelspec": {
   "display_name": "Python 3 (ipykernel)",
   "language": "python",
   "name": "python3"
  },
  "language_info": {
   "codemirror_mode": {
    "name": "ipython",
    "version": 3
   },
   "file_extension": ".py",
   "mimetype": "text/x-python",
   "name": "python",
   "nbconvert_exporter": "python",
   "pygments_lexer": "ipython3",
   "version": "3.12.6"
  }
 },
 "nbformat": 4,
 "nbformat_minor": 5
}
