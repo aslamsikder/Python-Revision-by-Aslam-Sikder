{
 "cells": [
  {
   "cell_type": "code",
   "execution_count": null,
   "id": "b6d0a52e-d9a2-4e9d-ae40-f7356d93e912",
   "metadata": {},
   "outputs": [],
   "source": [
    "'''\n",
    "Create a program that:\n",
    "- Chooses a number between 1-100\n",
    "- Takes a user guess and tells them if they are correct or not.\n",
    "- Bonus: Tells the user if their guess was lower or higher than the computer's number\n",
    "'''"
   ]
  },
  {
   "cell_type": "code",
   "execution_count": null,
   "id": "aa8b3fa2-efb4-46fe-9b06-1fc25c91a660",
   "metadata": {},
   "outputs": [],
   "source": [
    "'''\n",
    "Step by step solution:\n",
    "- import random module TICK\n",
    "- Generate randint between 1-100 TICK\n",
    "- use input() to get user guess (don't forget to cast the string into integer) TICK\n",
    "- If user guess is right, print success, else fail TICK\n",
    "- If user guess is lower, tell them low and If higher, tell higher TICK\n",
    "'''"
   ]
  },
  {
   "cell_type": "code",
   "execution_count": 5,
   "id": "5f0c4567-689a-4651-b5b5-e79686ca56f2",
   "metadata": {},
   "outputs": [
    {
     "name": "stdin",
     "output_type": "stream",
     "text": [
      "Please enter a number between 1 and 100:  60\n"
     ]
    }
   ],
   "source": [
    "import random as rn\n",
    "\n",
    "computer_num = rn.randint(1,100)\n",
    "user_guess = int(input('Please enter a number between 1 and 100: '))"
   ]
  },
  {
   "cell_type": "code",
   "execution_count": 6,
   "id": "0c30d603-39e1-47f6-b340-a1d915e26939",
   "metadata": {},
   "outputs": [
    {
     "name": "stdout",
     "output_type": "stream",
     "text": [
      "Your guess is: 60 and The computer number is: 1\n",
      "Too high!\n"
     ]
    }
   ],
   "source": [
    "print(\"Your guess is: {} and The computer number is: {}\".format(user_guess, computer_num))\n",
    "\n",
    "if user_guess == computer_num:\n",
    "    print(\"congrates! your guess is correct.\")\n",
    "elif user_guess > computer_num:\n",
    "    print(\"Too high!\")\n",
    "elif user_guess < computer_num:\n",
    "    print(\"Too Low!\")\n",
    "else:\n",
    "    print(\"You are wrong. Please try again.\")"
   ]
  },
  {
   "cell_type": "code",
   "execution_count": null,
   "id": "344f60d8-28d0-4943-b040-88076f110dee",
   "metadata": {},
   "outputs": [],
   "source": []
  }
 ],
 "metadata": {
  "kernelspec": {
   "display_name": "Python 3 (ipykernel)",
   "language": "python",
   "name": "python3"
  },
  "language_info": {
   "codemirror_mode": {
    "name": "ipython",
    "version": 3
   },
   "file_extension": ".py",
   "mimetype": "text/x-python",
   "name": "python",
   "nbconvert_exporter": "python",
   "pygments_lexer": "ipython3",
   "version": "3.12.6"
  }
 },
 "nbformat": 4,
 "nbformat_minor": 5
}
