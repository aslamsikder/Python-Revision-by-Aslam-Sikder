{
 "cells": [
  {
   "cell_type": "code",
   "execution_count": 2,
   "id": "ae2c6836-6ae7-479c-a866-8c9a8a1a7b1a",
   "metadata": {},
   "outputs": [],
   "source": [
    "name = 'Aslam'\n",
    "age = 27\n",
    "hobby = 'coding'"
   ]
  },
  {
   "cell_type": "code",
   "execution_count": 4,
   "id": "57b94af8-a328-4691-8bd4-4d9e03b0f804",
   "metadata": {},
   "outputs": [
    {
     "name": "stdout",
     "output_type": "stream",
     "text": [
      "Aslam is 27 years old and his hobby is coding.\n"
     ]
    }
   ],
   "source": [
    "print('{} is {} years old and his hobby is {}.'.format(name, age, hobby))"
   ]
  },
  {
   "cell_type": "code",
   "execution_count": null,
   "id": "b6229ba2-5c2c-4a24-b2a0-aa9ee2c9571a",
   "metadata": {},
   "outputs": [],
   "source": []
  }
 ],
 "metadata": {
  "kernelspec": {
   "display_name": "Python 3 (ipykernel)",
   "language": "python",
   "name": "python3"
  },
  "language_info": {
   "codemirror_mode": {
    "name": "ipython",
    "version": 3
   },
   "file_extension": ".py",
   "mimetype": "text/x-python",
   "name": "python",
   "nbconvert_exporter": "python",
   "pygments_lexer": "ipython3",
   "version": "3.12.6"
  }
 },
 "nbformat": 4,
 "nbformat_minor": 5
}
