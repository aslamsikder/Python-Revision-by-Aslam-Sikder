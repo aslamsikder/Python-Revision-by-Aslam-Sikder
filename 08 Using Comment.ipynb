{
 "cells": [
  {
   "cell_type": "code",
   "execution_count": 5,
   "id": "5d5f6b7c-05fe-4763-9a74-2817745d3dc3",
   "metadata": {},
   "outputs": [
    {
     "name": "stdout",
     "output_type": "stream",
     "text": [
      "Single line comment\n"
     ]
    }
   ],
   "source": [
    "# single line comment\n",
    "print(\"Single line comment\")"
   ]
  },
  {
   "cell_type": "code",
   "execution_count": 6,
   "id": "5b3b3a9b-b31c-4359-a612-2bf7ae52dbac",
   "metadata": {},
   "outputs": [
    {
     "name": "stdout",
     "output_type": "stream",
     "text": [
      "Multiline comment\n"
     ]
    }
   ],
   "source": [
    "'''\n",
    "Multi\n",
    "line \n",
    "comment\n",
    "'''\n",
    "print(\"Multiline comment\")"
   ]
  },
  {
   "cell_type": "code",
   "execution_count": 7,
   "id": "ae1938bf-2b3a-4241-b963-a0ffb427a89a",
   "metadata": {},
   "outputs": [
    {
     "name": "stdout",
     "output_type": "stream",
     "text": [
      "Multiline comment\n"
     ]
    }
   ],
   "source": [
    "\"\"\"\n",
    "Multi\n",
    "Line\n",
    "Commment\n",
    "\"\"\"\n",
    "print(\"Multiline comment\")"
   ]
  },
  {
   "cell_type": "code",
   "execution_count": null,
   "id": "ca2cab3e-51bc-41fe-b01e-58b6a68f645b",
   "metadata": {},
   "outputs": [],
   "source": []
  }
 ],
 "metadata": {
  "kernelspec": {
   "display_name": "Python 3 (ipykernel)",
   "language": "python",
   "name": "python3"
  },
  "language_info": {
   "codemirror_mode": {
    "name": "ipython",
    "version": 3
   },
   "file_extension": ".py",
   "mimetype": "text/x-python",
   "name": "python",
   "nbconvert_exporter": "python",
   "pygments_lexer": "ipython3",
   "version": "3.12.6"
  }
 },
 "nbformat": 4,
 "nbformat_minor": 5
}
