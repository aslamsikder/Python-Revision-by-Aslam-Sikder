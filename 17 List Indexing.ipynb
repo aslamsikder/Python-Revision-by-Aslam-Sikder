{
 "cells": [
  {
   "cell_type": "code",
   "execution_count": 3,
   "id": "7925d1df-bc20-4076-aa8e-5d461c4aa9b1",
   "metadata": {},
   "outputs": [],
   "source": [
    "#simple LIst\n",
    "myList_1 = [1, 3, 6, 12, 8, 10, 'HI', 'Aslam Sir', 95, 25]"
   ]
  },
  {
   "cell_type": "code",
   "execution_count": 4,
   "id": "e918a51c-1c0e-436e-a7d8-ffd828f4afe1",
   "metadata": {},
   "outputs": [
    {
     "data": {
      "text/plain": [
       "10"
      ]
     },
     "execution_count": 4,
     "metadata": {},
     "output_type": "execute_result"
    }
   ],
   "source": [
    "len(myList_1)"
   ]
  },
  {
   "cell_type": "code",
   "execution_count": 11,
   "id": "b29ccc28-ca82-4482-8131-284ebb2abbf2",
   "metadata": {},
   "outputs": [
    {
     "name": "stdout",
     "output_type": "stream",
     "text": [
      "10\n"
     ]
    }
   ],
   "source": [
    "#list1 = myList_1[len(myList_1)-5]\n",
    "list_1 = myList_1[5]\n",
    "print(list_1)"
   ]
  },
  {
   "cell_type": "code",
   "execution_count": 12,
   "id": "fe94c1a1-302b-41de-ab91-be24ff80d228",
   "metadata": {},
   "outputs": [],
   "source": [
    "#Nested List (List within a List)\n",
    "myList_2 = [1, 3, 6, [7, 8, 9, 15, 20], 12, 8, 10, 'HI', 'Aslam Sir', 95, 25]"
   ]
  },
  {
   "cell_type": "code",
   "execution_count": 13,
   "id": "43731bc2-6fac-4af4-b002-6cbddc011bf4",
   "metadata": {},
   "outputs": [
    {
     "data": {
      "text/plain": [
       "11"
      ]
     },
     "execution_count": 13,
     "metadata": {},
     "output_type": "execute_result"
    }
   ],
   "source": [
    "len(myList_2)"
   ]
  },
  {
   "cell_type": "code",
   "execution_count": 18,
   "id": "eae4b2b4-3db9-4c3e-a7ae-393d854bdbfa",
   "metadata": {},
   "outputs": [
    {
     "name": "stdout",
     "output_type": "stream",
     "text": [
      "15\n"
     ]
    }
   ],
   "source": [
    "list_2 = myList_2[3][3]\n",
    "print(list_2)"
   ]
  },
  {
   "cell_type": "code",
   "execution_count": 25,
   "id": "602e05a0-c2e5-4c0b-bcce-d42b2aa0aff5",
   "metadata": {},
   "outputs": [],
   "source": [
    "#Nested List (List within a List of List)\n",
    "myList_3 = [1, 3, 6, [7, 8, [9, 10, 13, 15, 18, 20]], 12, 8, 10, 'HI', 'Aslam Sir', 95, 25]"
   ]
  },
  {
   "cell_type": "code",
   "execution_count": 16,
   "id": "1221217a-87b7-4962-b3d1-398bd47e3269",
   "metadata": {},
   "outputs": [
    {
     "data": {
      "text/plain": [
       "11"
      ]
     },
     "execution_count": 16,
     "metadata": {},
     "output_type": "execute_result"
    }
   ],
   "source": [
    "len(myList_3)"
   ]
  },
  {
   "cell_type": "code",
   "execution_count": 26,
   "id": "c643505a-9b0d-4f16-811f-7f5a248272de",
   "metadata": {},
   "outputs": [
    {
     "name": "stdout",
     "output_type": "stream",
     "text": [
      "18\n"
     ]
    }
   ],
   "source": [
    "list_3 = myList_3[3][2][4]\n",
    "print(list_3)"
   ]
  }
 ],
 "metadata": {
  "kernelspec": {
   "display_name": "Python 3 (ipykernel)",
   "language": "python",
   "name": "python3"
  },
  "language_info": {
   "codemirror_mode": {
    "name": "ipython",
    "version": 3
   },
   "file_extension": ".py",
   "mimetype": "text/x-python",
   "name": "python",
   "nbconvert_exporter": "python",
   "pygments_lexer": "ipython3",
   "version": "3.12.6"
  }
 },
 "nbformat": 4,
 "nbformat_minor": 5
}
