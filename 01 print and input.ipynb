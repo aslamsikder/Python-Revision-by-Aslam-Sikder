{
 "cells": [
  {
   "cell_type": "code",
   "execution_count": 2,
   "id": "5fc5e86c-98c3-4fa0-88da-7900c9a17506",
   "metadata": {},
   "outputs": [
    {
     "name": "stdout",
     "output_type": "stream",
     "text": [
      "Hello World!\n"
     ]
    }
   ],
   "source": [
    "print('Hello World!')"
   ]
  },
  {
   "cell_type": "code",
   "execution_count": 4,
   "id": "d3492951-8ae7-4491-86b7-c2870dff1db9",
   "metadata": {},
   "outputs": [
    {
     "name": "stdout",
     "output_type": "stream",
     "text": [
      "3\n"
     ]
    }
   ],
   "source": [
    "print(3)"
   ]
  },
  {
   "cell_type": "code",
   "execution_count": 15,
   "id": "e9e2a119-7a1f-49aa-9394-9415688664d6",
   "metadata": {},
   "outputs": [
    {
     "name": "stdout",
     "output_type": "stream",
     "text": [
      "Your name & id is: Aslam 1001\n",
      "Your id is: 1001\n"
     ]
    }
   ],
   "source": [
    "name = 'Aslam'\n",
    "id = 1001\n",
    "print('Your name & id is:', name, id)\n",
    "print('Your id is:', id)"
   ]
  },
  {
   "cell_type": "code",
   "execution_count": 16,
   "id": "ad1141f6-f95b-4dec-a9e3-0e21b8d7bee3",
   "metadata": {},
   "outputs": [
    {
     "name": "stdin",
     "output_type": "stream",
     "text": [
      "how are you? I am fine\n"
     ]
    },
    {
     "data": {
      "text/plain": [
       "'I am fine'"
      ]
     },
     "execution_count": 16,
     "metadata": {},
     "output_type": "execute_result"
    }
   ],
   "source": [
    "#taing input from user\n",
    "input('how are you?')"
   ]
  },
  {
   "cell_type": "code",
   "execution_count": 17,
   "id": "7b852f47-812e-4a19-8b41-89037983ccc7",
   "metadata": {},
   "outputs": [
    {
     "name": "stdin",
     "output_type": "stream",
     "text": [
      "Hello Assalamu Alaikum\n"
     ]
    }
   ],
   "source": [
    "greetings = input('Hello')"
   ]
  },
  {
   "cell_type": "code",
   "execution_count": 18,
   "id": "48ddfcc3-8048-4b9b-ba41-1eddb9a65362",
   "metadata": {},
   "outputs": [
    {
     "name": "stdout",
     "output_type": "stream",
     "text": [
      "Assalamu Alaikum\n"
     ]
    }
   ],
   "source": [
    "print(greetings)"
   ]
  },
  {
   "cell_type": "code",
   "execution_count": null,
   "id": "c1baa673-e8fa-404f-b945-94230c7da83c",
   "metadata": {},
   "outputs": [],
   "source": []
  }
 ],
 "metadata": {
  "kernelspec": {
   "display_name": "Python 3 (ipykernel)",
   "language": "python",
   "name": "python3"
  },
  "language_info": {
   "codemirror_mode": {
    "name": "ipython",
    "version": 3
   },
   "file_extension": ".py",
   "mimetype": "text/x-python",
   "name": "python",
   "nbconvert_exporter": "python",
   "pygments_lexer": "ipython3",
   "version": "3.12.6"
  }
 },
 "nbformat": 4,
 "nbformat_minor": 5
}
