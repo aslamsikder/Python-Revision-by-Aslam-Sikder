{
 "cells": [
  {
   "cell_type": "code",
   "execution_count": null,
   "id": "9dd42340-d50d-438f-93b1-618e201ed462",
   "metadata": {},
   "outputs": [],
   "source": [
    "'''\n",
    "- Give a welcome message - Tick\n",
    "- Ask something about them - Tick\n",
    "- Respond with some welcome message that includes their answer to what you ask - Tick\n",
    "'''"
   ]
  },
  {
   "cell_type": "code",
   "execution_count": 2,
   "id": "a0bc6022-c3bf-4d5a-b29f-a80261848048",
   "metadata": {},
   "outputs": [
    {
     "name": "stdout",
     "output_type": "stream",
     "text": [
      "Hello Friend\n"
     ]
    },
    {
     "name": "stdin",
     "output_type": "stream",
     "text": [
      "How are you today?  I am feeling good\n"
     ]
    },
    {
     "name": "stdout",
     "output_type": "stream",
     "text": [
      "Your response was: I am feeling good. Thank you for letting me know.\n"
     ]
    }
   ],
   "source": [
    "print('Hello Friend')\n",
    "user_response = input('How are you today? ')\n",
    "print('Your response was: ' + user_response + '. Thank you for letting me know.')"
   ]
  },
  {
   "cell_type": "code",
   "execution_count": null,
   "id": "0b4e6f1d-17ab-4586-9725-8d601731433d",
   "metadata": {},
   "outputs": [],
   "source": []
  }
 ],
 "metadata": {
  "kernelspec": {
   "display_name": "Python 3 (ipykernel)",
   "language": "python",
   "name": "python3"
  },
  "language_info": {
   "codemirror_mode": {
    "name": "ipython",
    "version": 3
   },
   "file_extension": ".py",
   "mimetype": "text/x-python",
   "name": "python",
   "nbconvert_exporter": "python",
   "pygments_lexer": "ipython3",
   "version": "3.12.6"
  }
 },
 "nbformat": 4,
 "nbformat_minor": 5
}
