{
 "cells": [
  {
   "cell_type": "code",
   "execution_count": null,
   "id": "8f86ca5d-7d84-430d-a909-0269c15f5ec2",
   "metadata": {},
   "outputs": [],
   "source": [
    "'''\n",
    "Create a twister spinner that emulates a twister spinner\n",
    "Each time the program is run it outputs one of ech of the following (at random):\n",
    "- one color (red, green, blue, yellow)\n",
    "- left hand of right hand, left foot or right foot\n",
    "'''"
   ]
  }
 ],
 "metadata": {
  "kernelspec": {
   "display_name": "Python 3 (ipykernel)",
   "language": "python",
   "name": "python3"
  },
  "language_info": {
   "codemirror_mode": {
    "name": "ipython",
    "version": 3
   },
   "file_extension": ".py",
   "mimetype": "text/x-python",
   "name": "python",
   "nbconvert_exporter": "python",
   "pygments_lexer": "ipython3",
   "version": "3.12.6"
  }
 },
 "nbformat": 4,
 "nbformat_minor": 5
}
