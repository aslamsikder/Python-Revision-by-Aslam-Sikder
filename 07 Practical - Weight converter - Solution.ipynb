{
 "cells": [
  {
   "cell_type": "code",
   "execution_count": null,
   "id": "0c429d6c-9c8f-4945-8143-e39e298cd56a",
   "metadata": {},
   "outputs": [],
   "source": [
    "'''\n",
    "- Create a program that converts pound to kg\n",
    "- Allows the user to input a weight in pound, and output the weight in kg.\n",
    "'''"
   ]
  },
  {
   "cell_type": "code",
   "execution_count": 1,
   "id": "f7f98605-1d25-4610-84d2-0018fe7d3780",
   "metadata": {},
   "outputs": [
    {
     "data": {
      "text/plain": [
       "'\\nSteps that should follow to solve the problem\\n- Create a variable that is the multiplier for pounds to kg (Need to research) TICK\\n- Input from user ( in pounds) TICK\\n- Output for user (in KG) TICK\\n'"
      ]
     },
     "execution_count": 1,
     "metadata": {},
     "output_type": "execute_result"
    }
   ],
   "source": [
    "'''\n",
    "Steps that should follow to solve the problem\n",
    "- Create a variable that is the multiplier for pounds to kg (Need to research) TICK\n",
    "- Input from user ( in pounds) TICK\n",
    "- Output for user (in KG) TICK\n",
    "'''"
   ]
  },
  {
   "cell_type": "code",
   "execution_count": 2,
   "id": "439b04c6-2572-4a5d-8fa9-463c212d690f",
   "metadata": {},
   "outputs": [],
   "source": [
    "conversion_multiplier = 0.45359237"
   ]
  },
  {
   "cell_type": "code",
   "execution_count": 6,
   "id": "ce75f87c-87d9-43e7-9969-d024ee26635a",
   "metadata": {},
   "outputs": [
    {
     "name": "stdin",
     "output_type": "stream",
     "text": [
      "Enter the amount of pounds to convert to KG:  1\n"
     ]
    },
    {
     "name": "stdout",
     "output_type": "stream",
     "text": [
      "You entered: 1. \n",
      "This converts to: 0.45359237\n"
     ]
    }
   ],
   "source": [
    "user_pounds = int(input('Enter the amount of pounds to convert to KG: '))\n",
    "converted_kg = user_pounds * conversion_multiplier\n",
    "\n",
    "#print('You entered: ' + str(user_pounds) + '. This converts to: ' + str(converted_kg) + ' pounds.')\n",
    "print('You entered: {}. \\nThis converts to: {}'.format(user_pounds, converted_kg))"
   ]
  },
  {
   "cell_type": "code",
   "execution_count": null,
   "id": "ca23ba22-8d1d-49eb-a046-4d9aeb154bcd",
   "metadata": {},
   "outputs": [],
   "source": []
  }
 ],
 "metadata": {
  "kernelspec": {
   "display_name": "Python 3 (ipykernel)",
   "language": "python",
   "name": "python3"
  },
  "language_info": {
   "codemirror_mode": {
    "name": "ipython",
    "version": 3
   },
   "file_extension": ".py",
   "mimetype": "text/x-python",
   "name": "python",
   "nbconvert_exporter": "python",
   "pygments_lexer": "ipython3",
   "version": "3.12.6"
  }
 },
 "nbformat": 4,
 "nbformat_minor": 5
}
