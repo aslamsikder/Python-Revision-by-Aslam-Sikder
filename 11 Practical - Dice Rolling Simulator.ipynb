{
 "cells": [
  {
   "cell_type": "code",
   "execution_count": null,
   "id": "7c6fe443-7624-4847-ba6f-3f8324f3cd27",
   "metadata": {},
   "outputs": [],
   "source": [
    "'''\n",
    "- Create a program that simulates two dice being rolled\n",
    "- In the program give a message to the user saying what the two dice values are and their combined total\n",
    "'''"
   ]
  }
 ],
 "metadata": {
  "kernelspec": {
   "display_name": "Python 3 (ipykernel)",
   "language": "python",
   "name": "python3"
  },
  "language_info": {
   "codemirror_mode": {
    "name": "ipython",
    "version": 3
   },
   "file_extension": ".py",
   "mimetype": "text/x-python",
   "name": "python",
   "nbconvert_exporter": "python",
   "pygments_lexer": "ipython3",
   "version": "3.12.6"
  }
 },
 "nbformat": 4,
 "nbformat_minor": 5
}
