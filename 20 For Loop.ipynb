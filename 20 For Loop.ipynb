{
 "cells": [
  {
   "cell_type": "code",
   "execution_count": 2,
   "id": "bc3d7f5c-d0cb-4968-bd5f-3215ece2e8f5",
   "metadata": {},
   "outputs": [
    {
     "name": "stdout",
     "output_type": "stream",
     "text": [
      "0\n",
      "1\n",
      "2\n",
      "3\n",
      "4\n",
      "5\n",
      "6\n",
      "7\n",
      "8\n",
      "9\n"
     ]
    }
   ],
   "source": [
    "#Executing code a certain number of times\n",
    "for i in range(10):\n",
    "    print(i)"
   ]
  },
  {
   "cell_type": "code",
   "execution_count": 4,
   "id": "e4fc8e81-580c-4c45-b71f-577e44e178d7",
   "metadata": {},
   "outputs": [
    {
     "name": "stdout",
     "output_type": "stream",
     "text": [
      "0\n",
      "Count: 50\n",
      "1\n",
      "Count: 250\n",
      "2\n",
      "Count: 1250\n"
     ]
    }
   ],
   "source": [
    "count = 10\n",
    "for i in range(3):\n",
    "    count*=5\n",
    "    print(i)\n",
    "    print(\"Count: {}\".format(count))"
   ]
  },
  {
   "cell_type": "code",
   "execution_count": 5,
   "id": "71a531f7-6011-4e15-bf23-197879e5d269",
   "metadata": {},
   "outputs": [
    {
     "name": "stdout",
     "output_type": "stream",
     "text": [
      "Element Value: 1\n",
      "Element Value: 2\n",
      "Element Value: 3\n",
      "Element Value: 4\n",
      "Element Value: 5\n",
      "Element Value: 6\n"
     ]
    }
   ],
   "source": [
    "#Iterating through datasets (e.g. list)\n",
    "my_list = [1, 2, 3, 4, 5, 6]\n",
    "\n",
    "for element in my_list:\n",
    "    print(\"Element Value: {}\".format(element))"
   ]
  },
  {
   "cell_type": "code",
   "execution_count": 7,
   "id": "84848460-5060-4b58-a3c7-636bcdb60212",
   "metadata": {},
   "outputs": [
    {
     "name": "stdout",
     "output_type": "stream",
     "text": [
      "String is: H\n",
      "String is: i\n",
      "String is:  \n",
      "String is: t\n",
      "String is: h\n",
      "String is: e\n",
      "String is: r\n",
      "String is: e\n",
      "String is: ,\n",
      "String is:  \n",
      "String is: I\n",
      "String is:  \n",
      "String is: l\n",
      "String is: i\n",
      "String is: k\n",
      "String is: e\n",
      "String is:  \n",
      "String is: p\n",
      "String is: y\n",
      "String is: t\n",
      "String is: h\n",
      "String is: o\n",
      "String is: n\n",
      "String is: !\n"
     ]
    }
   ],
   "source": [
    "my_string = \"Hi there, I like python!\"\n",
    "\n",
    "for i in my_string:\n",
    "    print(\"String is: {}\".format(i))"
   ]
  },
  {
   "cell_type": "code",
   "execution_count": 10,
   "id": "4f9fc272-69c9-4ddf-8f9b-075fd3ac5ddf",
   "metadata": {},
   "outputs": [
    {
     "name": "stdout",
     "output_type": "stream",
     "text": [
      "51\n",
      "53\n",
      "55\n",
      "57\n",
      "59\n",
      "61\n",
      "63\n",
      "65\n",
      "67\n",
      "69\n",
      "71\n",
      "73\n",
      "75\n",
      "77\n",
      "79\n",
      "81\n",
      "83\n",
      "85\n",
      "87\n",
      "89\n",
      "91\n",
      "93\n",
      "95\n",
      "97\n",
      "99\n",
      "The summation of odd numbers between 51 to 100 is: 1875\n"
     ]
    }
   ],
   "source": [
    "#Python code to sum the odd numbers from 51-100\n",
    "\n",
    "sum = 0\n",
    "\n",
    "for i in range(51, 100):\n",
    "    if i%2==1:\n",
    "        print(i)\n",
    "        sum = sum + i\n",
    "print('The summation of odd numbers between 51 to 100 is: {}'.format(sum))\n"
   ]
  },
  {
   "cell_type": "code",
   "execution_count": 11,
   "id": "30e10787-8b85-42d8-98ad-2bbbb97c454c",
   "metadata": {},
   "outputs": [
    {
     "name": "stdout",
     "output_type": "stream",
     "text": [
      "52\n",
      "54\n",
      "56\n",
      "58\n",
      "60\n",
      "62\n",
      "64\n",
      "66\n",
      "68\n",
      "70\n",
      "72\n",
      "74\n",
      "76\n",
      "78\n",
      "80\n",
      "82\n",
      "84\n",
      "86\n",
      "88\n",
      "90\n",
      "92\n",
      "94\n",
      "96\n",
      "98\n",
      "The summation of even numbers between 51 to 100 is: 1800\n"
     ]
    }
   ],
   "source": [
    "#Python code to sum the even numbers from 51-100\n",
    "\n",
    "sum = 0\n",
    "\n",
    "for i in range(51, 100):\n",
    "    if i%2==0:\n",
    "        print(i)\n",
    "        sum = sum + i\n",
    "print('The summation of even numbers between 51 to 100 is: {}'.format(sum))\n"
   ]
  },
  {
   "cell_type": "code",
   "execution_count": 16,
   "id": "42b75d9c-187d-4996-a94c-e016860da697",
   "metadata": {},
   "outputs": [
    {
     "name": "stdout",
     "output_type": "stream",
     "text": [
      "5\n",
      "10\n",
      "15\n",
      "20\n",
      "25\n",
      "30\n",
      "35\n",
      "40\n",
      "45\n",
      "50\n",
      "The sum of the series is: 275\n"
     ]
    }
   ],
   "source": [
    "#Python code S = 5 + 10 + 15 + 20 + 25 + 30 + 35 + 40 + 45 + 50\n",
    "\n",
    "sum = 0\n",
    "\n",
    "for i in range(5,51,5):\n",
    "    print(i)\n",
    "    sum+=i\n",
    "\n",
    "print(\"The sum of the series is: {}\".format(sum))"
   ]
  }
 ],
 "metadata": {
  "kernelspec": {
   "display_name": "Python 3 (ipykernel)",
   "language": "python",
   "name": "python3"
  },
  "language_info": {
   "codemirror_mode": {
    "name": "ipython",
    "version": 3
   },
   "file_extension": ".py",
   "mimetype": "text/x-python",
   "name": "python",
   "nbconvert_exporter": "python",
   "pygments_lexer": "ipython3",
   "version": "3.12.6"
  }
 },
 "nbformat": 4,
 "nbformat_minor": 5
}
