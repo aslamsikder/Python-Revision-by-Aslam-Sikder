{
 "cells": [
  {
   "cell_type": "code",
   "execution_count": 1,
   "id": "40dda308-c7b7-4464-bffd-fd7548aa4d6b",
   "metadata": {},
   "outputs": [
    {
     "data": {
      "text/plain": [
       "'\\n- Give a welcome message\\n- Ask something about them\\n- Respond with some welcome message that includes their answer to what you ask\\n'"
      ]
     },
     "execution_count": 1,
     "metadata": {},
     "output_type": "execute_result"
    }
   ],
   "source": [
    "'''\n",
    "- Give a welcome message\n",
    "- Ask something about them\n",
    "- Respond with some welcome message that includes their answer to what you ask\n",
    "'''"
   ]
  },
  {
   "cell_type": "code",
   "execution_count": 2,
   "id": "988c57b4-49dd-47a2-9a03-7a28407a01e0",
   "metadata": {},
   "outputs": [
    {
     "name": "stdout",
     "output_type": "stream",
     "text": [
      "Hi this is Aslam\n"
     ]
    }
   ],
   "source": [
    "msg = 'Aslam'\n",
    "print('Hi this is ' + msg)"
   ]
  },
  {
   "cell_type": "code",
   "execution_count": null,
   "id": "15c4b8ba-091c-433d-9807-2e907dc26643",
   "metadata": {},
   "outputs": [],
   "source": []
  }
 ],
 "metadata": {
  "kernelspec": {
   "display_name": "Python 3 (ipykernel)",
   "language": "python",
   "name": "python3"
  },
  "language_info": {
   "codemirror_mode": {
    "name": "ipython",
    "version": 3
   },
   "file_extension": ".py",
   "mimetype": "text/x-python",
   "name": "python",
   "nbconvert_exporter": "python",
   "pygments_lexer": "ipython3",
   "version": "3.12.6"
  }
 },
 "nbformat": 4,
 "nbformat_minor": 5
}
