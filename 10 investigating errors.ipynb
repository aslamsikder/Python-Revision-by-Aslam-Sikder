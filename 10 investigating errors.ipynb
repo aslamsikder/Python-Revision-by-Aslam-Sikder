{
 "cells": [
  {
   "cell_type": "code",
   "execution_count": 1,
   "id": "0527de0c-5e76-46e7-97be-a5ad2f9b8188",
   "metadata": {},
   "outputs": [
    {
     "ename": "ModuleNotFoundError",
     "evalue": "No module named 'randomo'",
     "output_type": "error",
     "traceback": [
      "\u001b[1;31m---------------------------------------------------------------------------\u001b[0m",
      "\u001b[1;31mModuleNotFoundError\u001b[0m                       Traceback (most recent call last)",
      "Cell \u001b[1;32mIn[1], line 1\u001b[0m\n\u001b[1;32m----> 1\u001b[0m \u001b[38;5;28;01mimport\u001b[39;00m \u001b[38;5;21;01mrandomo\u001b[39;00m\n\u001b[0;32m      2\u001b[0m a \u001b[38;5;241m=\u001b[39m \u001b[38;5;124m'\u001b[39m\u001b[38;5;124mthis\u001b[39m\u001b[38;5;124m'\u001b[39m\n\u001b[0;32m      3\u001b[0m b \u001b[38;5;241m=\u001b[39m \u001b[38;5;124m'\u001b[39m\u001b[38;5;124mthat\u001b[39m\u001b[38;5;124m'\u001b[39m\n",
      "\u001b[1;31mModuleNotFoundError\u001b[0m: No module named 'randomo'"
     ]
    }
   ],
   "source": [
    "import randomo\n",
    "a = 'this'\n",
    "b = 'that'\n",
    "1+3"
   ]
  },
  {
   "cell_type": "code",
   "execution_count": null,
   "id": "4f13c560-1382-41b8-9fa1-c504357ebfd6",
   "metadata": {},
   "outputs": [],
   "source": [
    "'''\n",
    "To solve the error copy the error message\n",
    "e.g. ModuleNotFoundError: No module named 'randomo'\n",
    "then search it in google\n",
    "stack overflow is the best option for finding your error\n",
    "'''"
   ]
  }
 ],
 "metadata": {
  "kernelspec": {
   "display_name": "Python 3 (ipykernel)",
   "language": "python",
   "name": "python3"
  },
  "language_info": {
   "codemirror_mode": {
    "name": "ipython",
    "version": 3
   },
   "file_extension": ".py",
   "mimetype": "text/x-python",
   "name": "python",
   "nbconvert_exporter": "python",
   "pygments_lexer": "ipython3",
   "version": "3.12.6"
  }
 },
 "nbformat": 4,
 "nbformat_minor": 5
}
