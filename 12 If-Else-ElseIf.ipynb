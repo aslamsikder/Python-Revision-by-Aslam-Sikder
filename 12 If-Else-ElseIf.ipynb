{
 "cells": [
  {
   "cell_type": "code",
   "execution_count": null,
   "id": "cfef030a-400a-4e11-915d-d78239219614",
   "metadata": {},
   "outputs": [],
   "source": [
    "'''\n",
    "Program for checking the temperature of a nuclear power station core\n",
    "'''"
   ]
  },
  {
   "cell_type": "code",
   "execution_count": 17,
   "id": "bc8fc132-ae90-4627-8758-c0cb2a3cb6b7",
   "metadata": {},
   "outputs": [
    {
     "name": "stdout",
     "output_type": "stream",
     "text": [
      "Temperature level is low. Please make a fire.\n"
     ]
    }
   ],
   "source": [
    "max_temp = 40\n",
    "current_temp = 8\n",
    "min_temp = 10\n",
    "\n",
    "if current_temp >= max_temp:\n",
    "    print('Core temperature is above safe level! Everyone panic!')\n",
    "elif current_temp < min_temp:\n",
    "    print('Temperature level is low. Please make a fire.')\n",
    "else:\n",
    "    print('Everything is fine.')"
   ]
  },
  {
   "cell_type": "code",
   "execution_count": 31,
   "id": "74bbd8e6-22eb-444d-a19b-35e06ce3c734",
   "metadata": {},
   "outputs": [
    {
     "name": "stdout",
     "output_type": "stream",
     "text": [
      "The temperature is 47. Core temperature is above safe level! Everyone panic!\n"
     ]
    }
   ],
   "source": [
    "# The solution using random module\n",
    "\n",
    "import random as rn\n",
    "\n",
    "max_temperature = 40\n",
    "min_temperature = 10\n",
    "current_temperature = rn.randint(0,60)\n",
    "\n",
    "if current_temperature >= max_temperature:\n",
    "    print('The temperature is {}. Core temperature is above safe level! Everyone panic!'.format(current_temperature))\n",
    "elif current_temperature >= min_temperature:\n",
    "    print('The temperature is {} which is low. Please make a fire.'.format(min_temperature))\n",
    "else:\n",
    "    print('The temperature is {}. So, everything is fine.'.format(current_temperature))"
   ]
  },
  {
   "cell_type": "code",
   "execution_count": null,
   "id": "b5419bd1-64a6-4594-89ce-03bc61a4278c",
   "metadata": {},
   "outputs": [],
   "source": []
  },
  {
   "cell_type": "code",
   "execution_count": null,
   "id": "9b7e47ed-956a-4e23-a075-1ead91939fbb",
   "metadata": {},
   "outputs": [],
   "source": []
  }
 ],
 "metadata": {
  "kernelspec": {
   "display_name": "Python 3 (ipykernel)",
   "language": "python",
   "name": "python3"
  },
  "language_info": {
   "codemirror_mode": {
    "name": "ipython",
    "version": 3
   },
   "file_extension": ".py",
   "mimetype": "text/x-python",
   "name": "python",
   "nbconvert_exporter": "python",
   "pygments_lexer": "ipython3",
   "version": "3.12.6"
  }
 },
 "nbformat": 4,
 "nbformat_minor": 5
}
