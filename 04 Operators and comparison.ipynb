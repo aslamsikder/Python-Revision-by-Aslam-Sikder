{
 "cells": [
  {
   "cell_type": "code",
   "execution_count": null,
   "id": "80c29104-21ba-40cd-b7b6-d7811658f040",
   "metadata": {},
   "outputs": [],
   "source": [
    "'''\n",
    "- Operators: + - * / ** %\n",
    "- Comparison: > < >= <= == !=\n",
    "- Logical Operators: and or\n",
    "'''"
   ]
  },
  {
   "cell_type": "code",
   "execution_count": 1,
   "id": "583c78b0-320d-4037-b1a8-29c172947a6d",
   "metadata": {},
   "outputs": [
    {
     "data": {
      "text/plain": [
       "27"
      ]
     },
     "execution_count": 1,
     "metadata": {},
     "output_type": "execute_result"
    }
   ],
   "source": [
    "12+15"
   ]
  },
  {
   "cell_type": "code",
   "execution_count": 2,
   "id": "24a8de47-bc62-4281-96da-28d7943b71f1",
   "metadata": {},
   "outputs": [
    {
     "data": {
      "text/plain": [
       "40"
      ]
     },
     "execution_count": 2,
     "metadata": {},
     "output_type": "execute_result"
    }
   ],
   "source": [
    "125-85"
   ]
  },
  {
   "cell_type": "code",
   "execution_count": 3,
   "id": "ce4f501b-1d09-4b98-88d8-d5ce9c0c00d7",
   "metadata": {},
   "outputs": [
    {
     "data": {
      "text/plain": [
       "60"
      ]
     },
     "execution_count": 3,
     "metadata": {},
     "output_type": "execute_result"
    }
   ],
   "source": [
    "5*12"
   ]
  },
  {
   "cell_type": "code",
   "execution_count": 4,
   "id": "7a3906d7-2711-4d5f-ad33-625ce032e482",
   "metadata": {},
   "outputs": [
    {
     "data": {
      "text/plain": [
       "2.4"
      ]
     },
     "execution_count": 4,
     "metadata": {},
     "output_type": "execute_result"
    }
   ],
   "source": [
    "# The result of a division is aleays float\n",
    "12/5"
   ]
  },
  {
   "cell_type": "code",
   "execution_count": 6,
   "id": "e4889ea5-dc86-4265-b628-f722df362fe1",
   "metadata": {},
   "outputs": [
    {
     "data": {
      "text/plain": [
       "64"
      ]
     },
     "execution_count": 6,
     "metadata": {},
     "output_type": "execute_result"
    }
   ],
   "source": [
    "#power\n",
    "8**2"
   ]
  },
  {
   "cell_type": "code",
   "execution_count": 9,
   "id": "ffb2f291-b476-48d4-8746-b8a3a88d3364",
   "metadata": {},
   "outputs": [
    {
     "data": {
      "text/plain": [
       "4"
      ]
     },
     "execution_count": 9,
     "metadata": {},
     "output_type": "execute_result"
    }
   ],
   "source": [
    "# Modulus return the remainder\n",
    "89 % 5"
   ]
  },
  {
   "cell_type": "code",
   "execution_count": 10,
   "id": "5fe5ff38-0872-4c42-b335-fd17825a9835",
   "metadata": {},
   "outputs": [
    {
     "data": {
      "text/plain": [
       "True"
      ]
     },
     "execution_count": 10,
     "metadata": {},
     "output_type": "execute_result"
    }
   ],
   "source": [
    "# Comparison\n",
    "10>8"
   ]
  },
  {
   "cell_type": "code",
   "execution_count": 11,
   "id": "b1271ea7-5257-4121-aa57-4ccdc2d55a4c",
   "metadata": {},
   "outputs": [
    {
     "data": {
      "text/plain": [
       "False"
      ]
     },
     "execution_count": 11,
     "metadata": {},
     "output_type": "execute_result"
    }
   ],
   "source": [
    "10<8"
   ]
  },
  {
   "cell_type": "code",
   "execution_count": 12,
   "id": "1dc86e48-a891-452d-8b00-f16cd80007cf",
   "metadata": {},
   "outputs": [
    {
     "data": {
      "text/plain": [
       "False"
      ]
     },
     "execution_count": 12,
     "metadata": {},
     "output_type": "execute_result"
    }
   ],
   "source": [
    "10>=12"
   ]
  },
  {
   "cell_type": "code",
   "execution_count": 13,
   "id": "eda043c0-5b78-41e6-9bde-321ccf2cf54c",
   "metadata": {},
   "outputs": [
    {
     "data": {
      "text/plain": [
       "True"
      ]
     },
     "execution_count": 13,
     "metadata": {},
     "output_type": "execute_result"
    }
   ],
   "source": [
    "10<=12"
   ]
  },
  {
   "cell_type": "code",
   "execution_count": 14,
   "id": "ec2513cb-5310-4bc6-bb00-b76216170fbc",
   "metadata": {},
   "outputs": [
    {
     "data": {
      "text/plain": [
       "False"
      ]
     },
     "execution_count": 14,
     "metadata": {},
     "output_type": "execute_result"
    }
   ],
   "source": [
    "10==9"
   ]
  },
  {
   "cell_type": "code",
   "execution_count": 16,
   "id": "ed638c18-0467-4931-84ea-d55e82a49a07",
   "metadata": {},
   "outputs": [
    {
     "data": {
      "text/plain": [
       "True"
      ]
     },
     "execution_count": 16,
     "metadata": {},
     "output_type": "execute_result"
    }
   ],
   "source": [
    "10!=9"
   ]
  },
  {
   "cell_type": "code",
   "execution_count": 19,
   "id": "1e1834dc-41b8-4451-b2ff-4a578417e788",
   "metadata": {},
   "outputs": [
    {
     "data": {
      "text/plain": [
       "True"
      ]
     },
     "execution_count": 19,
     "metadata": {},
     "output_type": "execute_result"
    }
   ],
   "source": [
    "# Logical Operators\n",
    "#Both should be true\n",
    "10<15 and 12<=12"
   ]
  },
  {
   "cell_type": "code",
   "execution_count": 21,
   "id": "16bc171a-5815-4e22-8c99-e5a27fa99898",
   "metadata": {},
   "outputs": [
    {
     "data": {
      "text/plain": [
       "True"
      ]
     },
     "execution_count": 21,
     "metadata": {},
     "output_type": "execute_result"
    }
   ],
   "source": [
    "# at least one should be true\n",
    "12<=10 or 15>=12"
   ]
  },
  {
   "cell_type": "code",
   "execution_count": null,
   "id": "f7653488-2cdd-4833-b648-875f98bbefda",
   "metadata": {},
   "outputs": [],
   "source": []
  }
 ],
 "metadata": {
  "kernelspec": {
   "display_name": "Python 3 (ipykernel)",
   "language": "python",
   "name": "python3"
  },
  "language_info": {
   "codemirror_mode": {
    "name": "ipython",
    "version": 3
   },
   "file_extension": ".py",
   "mimetype": "text/x-python",
   "name": "python",
   "nbconvert_exporter": "python",
   "pygments_lexer": "ipython3",
   "version": "3.12.6"
  }
 },
 "nbformat": 4,
 "nbformat_minor": 5
}
