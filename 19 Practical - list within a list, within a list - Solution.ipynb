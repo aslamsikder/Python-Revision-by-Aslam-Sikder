{
 "cells": [
  {
   "cell_type": "code",
   "execution_count": null,
   "id": "383ed0fb-518c-4fdc-bb52-1aea36ad5416",
   "metadata": {},
   "outputs": [],
   "source": [
    "'''\n",
    "- Create a list\n",
    "- Add a list in this list\n",
    "- Add a list within this list\n",
    "- Each list contain must at least four elements\n",
    "******\n",
    "- Access the first two elements of the list within the original list\n",
    "- Acess the last three elements of the list within the list within the list\n",
    "- Output the whole thing backward\n",
    "'''"
   ]
  },
  {
   "cell_type": "code",
   "execution_count": 11,
   "id": "89522415-8cdc-4afe-84f7-06af0cc9ed0e",
   "metadata": {},
   "outputs": [],
   "source": [
    "brain_teaser = ['bird', 'fox', 'bear', [100, [0.34, 0.987, 0.333333, 0.5, 0.912], 200, 300, 400, 500], 'mouse', 'eagle']"
   ]
  },
  {
   "cell_type": "code",
   "execution_count": 12,
   "id": "4df3b501-87d2-4272-a3aa-bcd8c9fa00e2",
   "metadata": {},
   "outputs": [
    {
     "name": "stdout",
     "output_type": "stream",
     "text": [
      "[100, [0.34, 0.987, 0.333333, 0.5, 0.912], 200, 300, 400, 500]\n"
     ]
    }
   ],
   "source": [
    "print(brain_teaser[3])"
   ]
  },
  {
   "cell_type": "code",
   "execution_count": 13,
   "id": "382305d2-b664-4e1c-ab99-b1f9f68be80b",
   "metadata": {},
   "outputs": [
    {
     "name": "stdout",
     "output_type": "stream",
     "text": [
      "[100, [0.34, 0.987, 0.333333, 0.5, 0.912]]\n"
     ]
    }
   ],
   "source": [
    "print(brain_teaser[3][:2])"
   ]
  },
  {
   "cell_type": "code",
   "execution_count": 14,
   "id": "ecab8a09-1f5a-44db-941a-c253773179fd",
   "metadata": {},
   "outputs": [
    {
     "name": "stdout",
     "output_type": "stream",
     "text": [
      "[0.333333, 0.5, 0.912]\n"
     ]
    }
   ],
   "source": [
    "print(brain_teaser[3][1][2:])"
   ]
  },
  {
   "cell_type": "code",
   "execution_count": 17,
   "id": "571af338-391f-43f1-b5f0-13d0a6fe163f",
   "metadata": {},
   "outputs": [
    {
     "name": "stdout",
     "output_type": "stream",
     "text": [
      "['eagle', 'mouse', [100, [0.34, 0.987, 0.333333, 0.5, 0.912], 200, 300, 400, 500], 'bear', 'fox', 'bird']\n"
     ]
    }
   ],
   "source": [
    "print(brain_teaser[::-1])"
   ]
  },
  {
   "cell_type": "code",
   "execution_count": null,
   "id": "eb7c82ea-a107-42f4-af22-25e9554eda6a",
   "metadata": {},
   "outputs": [],
   "source": []
  }
 ],
 "metadata": {
  "kernelspec": {
   "display_name": "Python 3 (ipykernel)",
   "language": "python",
   "name": "python3"
  },
  "language_info": {
   "codemirror_mode": {
    "name": "ipython",
    "version": 3
   },
   "file_extension": ".py",
   "mimetype": "text/x-python",
   "name": "python",
   "nbconvert_exporter": "python",
   "pygments_lexer": "ipython3",
   "version": "3.12.6"
  }
 },
 "nbformat": 4,
 "nbformat_minor": 5
}
