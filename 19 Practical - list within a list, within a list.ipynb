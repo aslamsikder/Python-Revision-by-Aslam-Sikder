{
 "cells": [
  {
   "cell_type": "code",
   "execution_count": null,
   "id": "b5359d6a-0da8-4ee8-aaaf-9398d571146e",
   "metadata": {},
   "outputs": [],
   "source": [
    "'''\n",
    "- Create a list\n",
    "- Add a list in this list\n",
    "- Add a list within this list\n",
    "- Each list contain must at least four elements\n",
    "******\n",
    "- Access the first two elements of the list within the original list\n",
    "- Acess the last three elements of the list within the list within the list\n",
    "- Output the whole thing backward\n",
    "'''"
   ]
  }
 ],
 "metadata": {
  "kernelspec": {
   "display_name": "Python 3 (ipykernel)",
   "language": "python",
   "name": "python3"
  },
  "language_info": {
   "codemirror_mode": {
    "name": "ipython",
    "version": 3
   },
   "file_extension": ".py",
   "mimetype": "text/x-python",
   "name": "python",
   "nbconvert_exporter": "python",
   "pygments_lexer": "ipython3",
   "version": "3.12.6"
  }
 },
 "nbformat": 4,
 "nbformat_minor": 5
}
