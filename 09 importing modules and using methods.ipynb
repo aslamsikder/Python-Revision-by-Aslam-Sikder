{
 "cells": [
  {
   "cell_type": "code",
   "execution_count": 1,
   "id": "e2482515-86df-4c28-973e-f8c40f867ee2",
   "metadata": {},
   "outputs": [
    {
     "data": {
      "text/plain": [
       "'\\nBuilt in methods\\nImporting modules (Collection of methods)\\nimport ______\\nimport ______ as ______\\nfrom _______ import _______\\n'"
      ]
     },
     "execution_count": 1,
     "metadata": {},
     "output_type": "execute_result"
    }
   ],
   "source": [
    "'''\n",
    "Built in methods\n",
    "Importing modules (Collection of methods)\n",
    "import ______\n",
    "import ______ as ______\n",
    "from _______ import _______\n",
    "'''"
   ]
  },
  {
   "cell_type": "code",
   "execution_count": 2,
   "id": "18e15d87-b859-4a8c-b905-208b658d95c9",
   "metadata": {},
   "outputs": [
    {
     "data": {
      "text/plain": [
       "'7'"
      ]
     },
     "execution_count": 2,
     "metadata": {},
     "output_type": "execute_result"
    }
   ],
   "source": [
    "# Built in methods\n",
    "str(7)"
   ]
  },
  {
   "cell_type": "code",
   "execution_count": 3,
   "id": "2932807e-ada8-4010-aae6-b8b8009eeb01",
   "metadata": {},
   "outputs": [
    {
     "data": {
      "text/plain": [
       "14"
      ]
     },
     "execution_count": 3,
     "metadata": {},
     "output_type": "execute_result"
    }
   ],
   "source": [
    "len('Hi, I am Aslam')"
   ]
  },
  {
   "cell_type": "code",
   "execution_count": 4,
   "id": "f83d46b3-3349-44b7-a2f7-1b59b0c9fb60",
   "metadata": {},
   "outputs": [],
   "source": [
    "import random"
   ]
  },
  {
   "cell_type": "code",
   "execution_count": 11,
   "id": "d758eaff-085f-455f-9516-cc2ca757a132",
   "metadata": {},
   "outputs": [
    {
     "data": {
      "text/plain": [
       "5"
      ]
     },
     "execution_count": 11,
     "metadata": {},
     "output_type": "execute_result"
    }
   ],
   "source": [
    "random.randint(1,10)"
   ]
  },
  {
   "cell_type": "code",
   "execution_count": 12,
   "id": "a08eb6b4-ea74-4fb9-bc17-87c5f64a0e26",
   "metadata": {},
   "outputs": [],
   "source": [
    "import random as rn"
   ]
  },
  {
   "cell_type": "code",
   "execution_count": 14,
   "id": "e6669667-07a2-4e52-8ddb-611e8b91f8ed",
   "metadata": {},
   "outputs": [
    {
     "data": {
      "text/plain": [
       "18"
      ]
     },
     "execution_count": 14,
     "metadata": {},
     "output_type": "execute_result"
    }
   ],
   "source": [
    "rn.randint(10,20)"
   ]
  },
  {
   "cell_type": "code",
   "execution_count": 15,
   "id": "346a9b02-7693-4997-9a0d-2d5ff16775c2",
   "metadata": {},
   "outputs": [],
   "source": [
    "from random import randint"
   ]
  },
  {
   "cell_type": "code",
   "execution_count": 17,
   "id": "561ad416-0e58-4dc1-9296-ffc5739556bf",
   "metadata": {},
   "outputs": [
    {
     "data": {
      "text/plain": [
       "22"
      ]
     },
     "execution_count": 17,
     "metadata": {},
     "output_type": "execute_result"
    }
   ],
   "source": [
    "randint(21,30)"
   ]
  },
  {
   "cell_type": "code",
   "execution_count": null,
   "id": "86213500-5dd7-4a97-b671-85da37cc35aa",
   "metadata": {},
   "outputs": [],
   "source": []
  }
 ],
 "metadata": {
  "kernelspec": {
   "display_name": "Python 3 (ipykernel)",
   "language": "python",
   "name": "python3"
  },
  "language_info": {
   "codemirror_mode": {
    "name": "ipython",
    "version": 3
   },
   "file_extension": ".py",
   "mimetype": "text/x-python",
   "name": "python",
   "nbconvert_exporter": "python",
   "pygments_lexer": "ipython3",
   "version": "3.12.6"
  }
 },
 "nbformat": 4,
 "nbformat_minor": 5
}
